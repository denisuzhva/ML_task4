{
 "cells": [
  {
   "cell_type": "code",
   "execution_count": null,
   "metadata": {},
   "outputs": [],
   "source": [
    "## Update A\n",
    "\n",
    "# A(i, k) <- min{0, R(k, k) + sum_{j: j \\neq i, j \\neq k} max{0, R(j, k)}} \n",
    "# A(k, k) <- sum_{j: j \\neq k} max{0, R(j, k)}\n",
    "def update_a(r_mat):\n",
    "    \n",
    "    # aux.\n",
    "    nodes_arr = np.arange(0, NODES)\n",
    "    \n",
    "    # clean R from negative elements\n",
    "    r_pos = r_mat.copy()\n",
    "    r_pos[r_pos < 0] = 0\n",
    "    r_pos = r_pos.tocsr()\n",
    "    r_pos.eliminate_zeros()\n",
    "    \n",
    "    # for now, just calculate a sum over all rows...\n",
    "    r_pos_sum = np.asarray(r_pos.sum(axis=0))\n",
    "    \n",
    "    # rearrange sum values and place them inside a\n",
    "    a_mat = sp.lil_matrix((NODES, NODES), dtype=DTYPE)\n",
    "    r_pos_sum_full = r_pos_sum.flatten()[s_keys[1]]\n",
    "    a_mat[s_keys[0], s_keys[1]] = r_pos_sum_full\n",
    "    a_mat = a_mat.tocsr()\n",
    "    a_mat.eliminate_zeros()\n",
    "    \n",
    "    # subtract where j = i\n",
    "    a_mat = a_mat - r_pos\n",
    "    \n",
    "    # subtract where j = k (do not consider i = k collision, since A(k, k) is calculated saparately)\n",
    "    r_pos_diag = r_pos.diagonal()\n",
    "    r_pos_diag_full = r_pos_diag[s_keys[1]]\n",
    "    b_mat = sp.lil_matrix((NODES, NODES), dtype=DTYPE)\n",
    "    b_mat[s_keys[0], s_keys[1]] = r_pos_diag_full\n",
    "    a_mat = a_mat - b_mat.tocsr()\n",
    "    \n",
    "    # add R(k, k)\n",
    "    r_diag = r_mat.tocsr().diagonal()\n",
    "    r_diag_full = r_diag[s_keys[1]]\n",
    "    rkk_mat = sp.lil_matrix((NODES, NODES), dtype=DTYPE)\n",
    "    rkk_mat[s_keys[0], s_keys[1]] = r_diag_full\n",
    "    a_mat = rkk_mat.tocsr() + a_mat\n",
    "    \n",
    "    # finish A(i, k) by setting 0 where elements > 0\n",
    "    a_mat[a_mat > 0] = 0\n",
    "    a_mat.eliminate_zeros()\n",
    "    \n",
    "    # calculate A(k, k)\n",
    "    akk = r_pos_sum - r_pos_diag # we already know sum of max(0, R(j, k)), now we just subtract values of R(k, k)\n",
    "    a_mat_lil = sp.lil_matrix((NODES, NODES), dtype=DTYPE) # for efficiency\n",
    "    a_mat_lil[nodes_arr, nodes_arr] = a_mat[nodes_arr, nodes_arr] # for efficiency\n",
    "    a_mat_lil[nodes_arr, nodes_arr] = a_mat_lil[nodes_arr, nodes_arr] - akk # for efficiency\n",
    "    a_mat = a_mat - a_mat_lil.tocsr() # subtract a_mat's diagonal and then add akk\n",
    "    print(np.all(sp.find(a_mat_lil)[0] - sp.find(a_mat_lil)[1]))\n",
    "    a_mat.eliminate_zeros()\n",
    "    \n",
    "    return a_mat"
   ]
  }
 ],
 "metadata": {
  "kernelspec": {
   "display_name": "Python 3",
   "language": "python",
   "name": "python3"
  },
  "language_info": {
   "codemirror_mode": {
    "name": "ipython",
    "version": 3
   },
   "file_extension": ".py",
   "mimetype": "text/x-python",
   "name": "python",
   "nbconvert_exporter": "python",
   "pygments_lexer": "ipython3",
   "version": "3.6.8"
  }
 },
 "nbformat": 4,
 "nbformat_minor": 2
}
