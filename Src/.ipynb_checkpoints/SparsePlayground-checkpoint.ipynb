{
 "cells": [
  {
   "cell_type": "code",
   "execution_count": 1,
   "metadata": {},
   "outputs": [],
   "source": [
    "import numpy as np\n",
    "import scipy.sparse as sp"
   ]
  },
  {
   "cell_type": "code",
   "execution_count": 13,
   "metadata": {},
   "outputs": [
    {
     "name": "stdout",
     "output_type": "stream",
     "text": [
      "  (0, 1)\t7\n",
      "  (1, 0)\t9\n",
      "  (1, 4)\t7\n",
      "  (3, 9)\t2\n",
      "  (4, 8)\t9\n",
      "  (5, 7)\t4\n",
      "  (6, 0)\t8\n",
      "  (6, 4)\t1\n",
      "  (7, 1)\t5\n",
      "  (8, 8)\t5\n",
      "  (9, 9)\t9\n",
      "[[0 7 0 0 0 0 0 0 0 0]\n",
      " [9 0 0 0 7 0 0 0 0 0]\n",
      " [0 0 0 0 0 0 0 0 0 0]\n",
      " [0 0 0 0 0 0 0 0 0 2]\n",
      " [0 0 0 0 0 0 0 0 9 0]\n",
      " [0 0 0 0 0 0 0 4 0 0]\n",
      " [8 0 0 0 1 0 0 0 0 0]\n",
      " [0 5 0 0 0 0 0 0 0 0]\n",
      " [0 0 0 0 0 0 0 0 5 0]\n",
      " [0 0 0 0 0 0 0 0 0 9]]\n"
     ]
    }
   ],
   "source": [
    "dim = 10\n",
    "a = sp.dok_matrix((dim, dim), dtype=np.int8)\n",
    "for i in range(dim):\n",
    "    for j in range(dim):\n",
    "        p_put = np.random.rand()\n",
    "        if p_put <= 0.2:\n",
    "            num = np.random.randint(dim)\n",
    "            a[i, j] = num\n",
    "            \n",
    "print(a)\n",
    "a_dense = a.todense()\n",
    "print(a_dense)"
   ]
  },
  {
   "cell_type": "code",
   "execution_count": null,
   "metadata": {},
   "outputs": [],
   "source": []
  }
 ],
 "metadata": {
  "kernelspec": {
   "display_name": "Python 3",
   "language": "python",
   "name": "python3"
  },
  "language_info": {
   "codemirror_mode": {
    "name": "ipython",
    "version": 3
   },
   "file_extension": ".py",
   "mimetype": "text/x-python",
   "name": "python",
   "nbconvert_exporter": "python",
   "pygments_lexer": "ipython3",
   "version": "3.7.3"
  }
 },
 "nbformat": 4,
 "nbformat_minor": 2
}
