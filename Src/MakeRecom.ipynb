{
 "cells": [
  {
   "cell_type": "markdown",
   "metadata": {},
   "source": [
    "# Make recommendations and calculate accuracy"
   ]
  },
  {
   "cell_type": "code",
   "execution_count": 1,
   "metadata": {},
   "outputs": [],
   "source": [
    "import numpy as np\n",
    "import scipy.sparse as sp\n",
    "import pandas as pd\n",
    "import matplotlib.pyplot as plt"
   ]
  },
  {
   "cell_type": "code",
   "execution_count": 2,
   "metadata": {},
   "outputs": [],
   "source": [
    "## Metadata and parameters\n",
    "\n",
    "K = 10 # top k locations"
   ]
  },
  {
   "cell_type": "code",
   "execution_count": 3,
   "metadata": {},
   "outputs": [
    {
     "name": "stdout",
     "output_type": "stream",
     "text": [
      "Number of chekins: 6442892\n"
     ]
    }
   ],
   "source": [
    "## Load check-ins \n",
    "\n",
    "ci_dataset = np.load('../Dataset/ci_ids.npy').astype(np.int32) # [usr, place]\n",
    "print('Number of chekins: %i' % ci_dataset.shape[0])"
   ]
  },
  {
   "cell_type": "code",
   "execution_count": 4,
   "metadata": {},
   "outputs": [
    {
     "name": "stdout",
     "output_type": "stream",
     "text": [
      "Unique users: 107092\n"
     ]
    }
   ],
   "source": [
    "## Get unique users\n",
    "\n",
    "u_usr = np.unique(ci_dataset[:, 0])\n",
    "n_usr = u_usr.size\n",
    "print('Unique users: %i' % n_usr)"
   ]
  },
  {
   "cell_type": "code",
   "execution_count": 5,
   "metadata": {},
   "outputs": [],
   "source": [
    "## Load array of exemplars\n",
    "\n",
    "exemp = np.load('./exemplars.npy')"
   ]
  },
  {
   "cell_type": "code",
   "execution_count": 6,
   "metadata": {},
   "outputs": [],
   "source": [
    "## Make a dataframe of the exemplars\n",
    "\n",
    "exemp_df = pd.DataFrame(exemp, dtype=np.int32)\n",
    "exemp_df = exemp_df.reset_index()\n",
    "exemp_df.columns = ['UID', 'CID'] # user ID, cluster ID (ID of an exemplar)"
   ]
  },
  {
   "cell_type": "code",
   "execution_count": 7,
   "metadata": {},
   "outputs": [],
   "source": [
    "## Make a dataframe of the ci_dataset\n",
    "\n",
    "ci_df = pd.DataFrame(ci_dataset, dtype=np.int32)\n",
    "ci_df.columns = ['UID', 'locID'] # user ID, location ID"
   ]
  },
  {
   "cell_type": "code",
   "execution_count": 8,
   "metadata": {},
   "outputs": [
    {
     "data": {
      "text/html": [
       "<div>\n",
       "<style scoped>\n",
       "    .dataframe tbody tr th:only-of-type {\n",
       "        vertical-align: middle;\n",
       "    }\n",
       "\n",
       "    .dataframe tbody tr th {\n",
       "        vertical-align: top;\n",
       "    }\n",
       "\n",
       "    .dataframe thead th {\n",
       "        text-align: right;\n",
       "    }\n",
       "</style>\n",
       "<table border=\"1\" class=\"dataframe\">\n",
       "  <thead>\n",
       "    <tr style=\"text-align: right;\">\n",
       "      <th></th>\n",
       "      <th>UID</th>\n",
       "      <th>locID</th>\n",
       "      <th>CID</th>\n",
       "    </tr>\n",
       "  </thead>\n",
       "  <tbody>\n",
       "    <tr>\n",
       "      <th>0</th>\n",
       "      <td>0</td>\n",
       "      <td>22847</td>\n",
       "      <td>0</td>\n",
       "    </tr>\n",
       "    <tr>\n",
       "      <th>1</th>\n",
       "      <td>0</td>\n",
       "      <td>420315</td>\n",
       "      <td>0</td>\n",
       "    </tr>\n",
       "    <tr>\n",
       "      <th>2</th>\n",
       "      <td>0</td>\n",
       "      <td>316637</td>\n",
       "      <td>0</td>\n",
       "    </tr>\n",
       "    <tr>\n",
       "      <th>3</th>\n",
       "      <td>0</td>\n",
       "      <td>16516</td>\n",
       "      <td>0</td>\n",
       "    </tr>\n",
       "    <tr>\n",
       "      <th>4</th>\n",
       "      <td>0</td>\n",
       "      <td>5535878</td>\n",
       "      <td>0</td>\n",
       "    </tr>\n",
       "    <tr>\n",
       "      <th>...</th>\n",
       "      <td>...</td>\n",
       "      <td>...</td>\n",
       "      <td>...</td>\n",
       "    </tr>\n",
       "    <tr>\n",
       "      <th>6442887</th>\n",
       "      <td>196578</td>\n",
       "      <td>906885</td>\n",
       "      <td>196504</td>\n",
       "    </tr>\n",
       "    <tr>\n",
       "      <th>6442888</th>\n",
       "      <td>196578</td>\n",
       "      <td>965121</td>\n",
       "      <td>196504</td>\n",
       "    </tr>\n",
       "    <tr>\n",
       "      <th>6442889</th>\n",
       "      <td>196578</td>\n",
       "      <td>1174322</td>\n",
       "      <td>196504</td>\n",
       "    </tr>\n",
       "    <tr>\n",
       "      <th>6442890</th>\n",
       "      <td>196585</td>\n",
       "      <td>471724</td>\n",
       "      <td>196539</td>\n",
       "    </tr>\n",
       "    <tr>\n",
       "      <th>6442891</th>\n",
       "      <td>196585</td>\n",
       "      <td>4555073</td>\n",
       "      <td>196539</td>\n",
       "    </tr>\n",
       "  </tbody>\n",
       "</table>\n",
       "<p>6442892 rows × 3 columns</p>\n",
       "</div>"
      ],
      "text/plain": [
       "            UID    locID     CID\n",
       "0             0    22847       0\n",
       "1             0   420315       0\n",
       "2             0   316637       0\n",
       "3             0    16516       0\n",
       "4             0  5535878       0\n",
       "...         ...      ...     ...\n",
       "6442887  196578   906885  196504\n",
       "6442888  196578   965121  196504\n",
       "6442889  196578  1174322  196504\n",
       "6442890  196585   471724  196539\n",
       "6442891  196585  4555073  196539\n",
       "\n",
       "[6442892 rows x 3 columns]"
      ]
     },
     "execution_count": 8,
     "metadata": {},
     "output_type": "execute_result"
    }
   ],
   "source": [
    "## Merge the dataframes with respect to the user ID column\n",
    "\n",
    "all_df = pd.merge(ci_df, exemp_df, on='UID')\n",
    "all_df"
   ]
  },
  {
   "cell_type": "code",
   "execution_count": 9,
   "metadata": {},
   "outputs": [
    {
     "name": "stdout",
     "output_type": "stream",
     "text": [
      "Number of train users: 96383\n",
      "Number of test users: 10709\n"
     ]
    }
   ],
   "source": [
    "## Divide into train and test data\n",
    "\n",
    "divisor = 10\n",
    "test_size = n_usr // divisor # test dataset is 'divisor' times smaller than the full dataset\n",
    "print('Number of train users: %i' % (n_usr - test_size))\n",
    "print('Number of test users: %i' % test_size)"
   ]
  },
  {
   "cell_type": "code",
   "execution_count": 10,
   "metadata": {},
   "outputs": [],
   "source": [
    "## Permute users\n",
    "\n",
    "p = np.random.permutation(n_usr)\n",
    "u_usr_rand = u_usr[p]"
   ]
  },
  {
   "cell_type": "code",
   "execution_count": 11,
   "metadata": {},
   "outputs": [],
   "source": [
    "## Divide users into train and test selections\n",
    "\n",
    "test_usrs = u_usr_rand[:test_size]\n",
    "train_usrs = u_usr_rand[test_size:]"
   ]
  },
  {
   "cell_type": "code",
   "execution_count": 12,
   "metadata": {},
   "outputs": [],
   "source": [
    "## Get parts of the all_df corresponding to the train and test datasets\n",
    "\n",
    "test_df = all_df.loc[all_df.UID.isin(test_usrs)]\n",
    "train_df = all_df.loc[all_df.UID.isin(train_usrs)]"
   ]
  },
  {
   "cell_type": "code",
   "execution_count": 13,
   "metadata": {},
   "outputs": [
    {
     "data": {
      "text/html": [
       "<div>\n",
       "<style scoped>\n",
       "    .dataframe tbody tr th:only-of-type {\n",
       "        vertical-align: middle;\n",
       "    }\n",
       "\n",
       "    .dataframe tbody tr th {\n",
       "        vertical-align: top;\n",
       "    }\n",
       "\n",
       "    .dataframe thead th {\n",
       "        text-align: right;\n",
       "    }\n",
       "</style>\n",
       "<table border=\"1\" class=\"dataframe\">\n",
       "  <thead>\n",
       "    <tr style=\"text-align: right;\">\n",
       "      <th></th>\n",
       "      <th>locID</th>\n",
       "      <th>counts</th>\n",
       "    </tr>\n",
       "  </thead>\n",
       "  <tbody>\n",
       "    <tr>\n",
       "      <th>0</th>\n",
       "      <td>55033</td>\n",
       "      <td>5215</td>\n",
       "    </tr>\n",
       "    <tr>\n",
       "      <th>1</th>\n",
       "      <td>19542</td>\n",
       "      <td>5185</td>\n",
       "    </tr>\n",
       "    <tr>\n",
       "      <th>2</th>\n",
       "      <td>9410</td>\n",
       "      <td>4246</td>\n",
       "    </tr>\n",
       "    <tr>\n",
       "      <th>3</th>\n",
       "      <td>10259</td>\n",
       "      <td>3704</td>\n",
       "    </tr>\n",
       "    <tr>\n",
       "      <th>4</th>\n",
       "      <td>9246</td>\n",
       "      <td>3125</td>\n",
       "    </tr>\n",
       "    <tr>\n",
       "      <th>5</th>\n",
       "      <td>23256</td>\n",
       "      <td>3109</td>\n",
       "    </tr>\n",
       "    <tr>\n",
       "      <th>6</th>\n",
       "      <td>9241</td>\n",
       "      <td>3090</td>\n",
       "    </tr>\n",
       "    <tr>\n",
       "      <th>7</th>\n",
       "      <td>58725</td>\n",
       "      <td>3080</td>\n",
       "    </tr>\n",
       "    <tr>\n",
       "      <th>8</th>\n",
       "      <td>10190</td>\n",
       "      <td>3055</td>\n",
       "    </tr>\n",
       "    <tr>\n",
       "      <th>9</th>\n",
       "      <td>14470</td>\n",
       "      <td>3053</td>\n",
       "    </tr>\n",
       "  </tbody>\n",
       "</table>\n",
       "</div>"
      ],
      "text/plain": [
       "   locID  counts\n",
       "0  55033    5215\n",
       "1  19542    5185\n",
       "2   9410    4246\n",
       "3  10259    3704\n",
       "4   9246    3125\n",
       "5  23256    3109\n",
       "6   9241    3090\n",
       "7  58725    3080\n",
       "8  10190    3055\n",
       "9  14470    3053"
      ]
     },
     "execution_count": 13,
     "metadata": {},
     "output_type": "execute_result"
    }
   ],
   "source": [
    "## Get top K locations among all users\n",
    "\n",
    "# extract the locations and count them\n",
    "locs = train_df.groupby('locID')\n",
    "locs_count = locs.count()\n",
    "locs_count = locs_count.drop('CID', axis=1)\n",
    "locs_count = locs_count.rename(columns={'UID': 'counts'})\n",
    "\n",
    "# sort and get top k locsations\n",
    "locs_ranked = locs_count.sort_values('counts', ascending=False)\n",
    "locs_ranked = locs_ranked.reset_index()\n",
    "locs_top_k_df = locs_ranked[:K]\n",
    "locs_top_k = locs_top_k_df.locID.values\n",
    "locs_top_k_uniq = np.unique(locs_top_k)\n",
    "locs_top_k_df"
   ]
  },
  {
   "cell_type": "code",
   "execution_count": 14,
   "metadata": {},
   "outputs": [
    {
     "data": {
      "text/html": [
       "<div>\n",
       "<style scoped>\n",
       "    .dataframe tbody tr th:only-of-type {\n",
       "        vertical-align: middle;\n",
       "    }\n",
       "\n",
       "    .dataframe tbody tr th {\n",
       "        vertical-align: top;\n",
       "    }\n",
       "\n",
       "    .dataframe thead th {\n",
       "        text-align: right;\n",
       "    }\n",
       "</style>\n",
       "<table border=\"1\" class=\"dataframe\">\n",
       "  <thead>\n",
       "    <tr style=\"text-align: right;\">\n",
       "      <th></th>\n",
       "      <th>CID</th>\n",
       "      <th>locID</th>\n",
       "      <th>count</th>\n",
       "    </tr>\n",
       "  </thead>\n",
       "  <tbody>\n",
       "    <tr>\n",
       "      <th>3432765</th>\n",
       "      <td>196539</td>\n",
       "      <td>103606</td>\n",
       "      <td>11</td>\n",
       "    </tr>\n",
       "    <tr>\n",
       "      <th>3432771</th>\n",
       "      <td>196539</td>\n",
       "      <td>271694</td>\n",
       "      <td>5</td>\n",
       "    </tr>\n",
       "    <tr>\n",
       "      <th>3432766</th>\n",
       "      <td>196539</td>\n",
       "      <td>124683</td>\n",
       "      <td>1</td>\n",
       "    </tr>\n",
       "    <tr>\n",
       "      <th>3432767</th>\n",
       "      <td>196539</td>\n",
       "      <td>128331</td>\n",
       "      <td>1</td>\n",
       "    </tr>\n",
       "    <tr>\n",
       "      <th>3432768</th>\n",
       "      <td>196539</td>\n",
       "      <td>130147</td>\n",
       "      <td>1</td>\n",
       "    </tr>\n",
       "    <tr>\n",
       "      <th>...</th>\n",
       "      <td>...</td>\n",
       "      <td>...</td>\n",
       "      <td>...</td>\n",
       "    </tr>\n",
       "    <tr>\n",
       "      <th>1982</th>\n",
       "      <td>0</td>\n",
       "      <td>4942030</td>\n",
       "      <td>1</td>\n",
       "    </tr>\n",
       "    <tr>\n",
       "      <th>1983</th>\n",
       "      <td>0</td>\n",
       "      <td>5109265</td>\n",
       "      <td>1</td>\n",
       "    </tr>\n",
       "    <tr>\n",
       "      <th>1984</th>\n",
       "      <td>0</td>\n",
       "      <td>5130189</td>\n",
       "      <td>1</td>\n",
       "    </tr>\n",
       "    <tr>\n",
       "      <th>1985</th>\n",
       "      <td>0</td>\n",
       "      <td>5305317</td>\n",
       "      <td>1</td>\n",
       "    </tr>\n",
       "    <tr>\n",
       "      <th>1986</th>\n",
       "      <td>0</td>\n",
       "      <td>5442822</td>\n",
       "      <td>1</td>\n",
       "    </tr>\n",
       "  </tbody>\n",
       "</table>\n",
       "<p>3432778 rows × 3 columns</p>\n",
       "</div>"
      ],
      "text/plain": [
       "            CID    locID  count\n",
       "3432765  196539   103606     11\n",
       "3432771  196539   271694      5\n",
       "3432766  196539   124683      1\n",
       "3432767  196539   128331      1\n",
       "3432768  196539   130147      1\n",
       "...         ...      ...    ...\n",
       "1982          0  4942030      1\n",
       "1983          0  5109265      1\n",
       "1984          0  5130189      1\n",
       "1985          0  5305317      1\n",
       "1986          0  5442822      1\n",
       "\n",
       "[3432778 rows x 3 columns]"
      ]
     },
     "execution_count": 14,
     "metadata": {},
     "output_type": "execute_result"
    }
   ],
   "source": [
    "## Get top locations among the clusters\n",
    "\n",
    "# extract the locations and count them\n",
    "clust_locs = train_df.groupby(['CID', 'locID'])\n",
    "clust_locs_count = clust_locs.count()\n",
    "clust_locs_count = clust_locs_count.rename(columns={'UID': 'count'})\n",
    "clust_locs_count = clust_locs_count.reset_index()\n",
    "\n",
    "# just sort\n",
    "clust_locs_ranked = clust_locs_count.sort_values(['CID', 'count'], ascending=False)\n",
    "clust_locs_ranked"
   ]
  },
  {
   "cell_type": "code",
   "execution_count": 15,
   "metadata": {},
   "outputs": [],
   "source": [
    "## Calculate the accuracy metric: hits / (k * test_size)\n",
    "\n",
    "base_hits = 0\n",
    "clust_hits = 0\n",
    "for usr in test_usrs:\n",
    "    \n",
    "    # get locations \n",
    "    all_locs = test_df.loc[test_df.UID==usr]['locID'].values\n",
    "    locs_usr_uniq = np.unique(all_locs)\n",
    "    \n",
    "    # cout for baseline\n",
    "    base_hits += np.intersect1d(locs_top_k_uniq, locs_usr_uniq).size\n",
    "    \n",
    "    # count for clusters\n",
    "    exemplar = exemp[usr]\n",
    "    clust_locs_top_k = clust_locs_ranked.loc[clust_locs_ranked.CID==exemplar]['locID'].values[:10]\n",
    "    clust_locs_top_k_uniq = np.unique(clust_locs_top_k)\n",
    "    clust_hits += np.intersect1d(clust_locs_top_k_uniq, locs_usr_uniq).size\n",
    "\n",
    "# calculate accuracy\n",
    "base_acc = base_hits / (K * test_size)\n",
    "clust_acc = clust_hits / (K * test_size)"
   ]
  },
  {
   "cell_type": "code",
   "execution_count": 16,
   "metadata": {},
   "outputs": [
    {
     "name": "stdout",
     "output_type": "stream",
     "text": [
      "Baseline accuracy: 0.018\n",
      "Cluster accuracy: 0.053\n"
     ]
    }
   ],
   "source": [
    "## Output\n",
    "print('Baseline accuracy: %.3f' % base_acc)\n",
    "print('Cluster accuracy: %.3f' % clust_acc)"
   ]
  },
  {
   "cell_type": "code",
   "execution_count": null,
   "metadata": {},
   "outputs": [],
   "source": []
  }
 ],
 "metadata": {
  "kernelspec": {
   "display_name": "Python 3",
   "language": "python",
   "name": "python3"
  },
  "language_info": {
   "codemirror_mode": {
    "name": "ipython",
    "version": 3
   },
   "file_extension": ".py",
   "mimetype": "text/x-python",
   "name": "python",
   "nbconvert_exporter": "python",
   "pygments_lexer": "ipython3",
   "version": "3.7.3"
  }
 },
 "nbformat": 4,
 "nbformat_minor": 2
}
