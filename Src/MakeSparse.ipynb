{
 "cells": [
  {
   "cell_type": "code",
   "execution_count": 1,
   "metadata": {},
   "outputs": [],
   "source": [
    "import numpy as np\n",
    "import scipy.sparse as sp"
   ]
  },
  {
   "cell_type": "code",
   "execution_count": 2,
   "metadata": {},
   "outputs": [],
   "source": [
    "N_NODES = 196591\n",
    "N_EDGES = 950327"
   ]
  },
  {
   "cell_type": "code",
   "execution_count": 3,
   "metadata": {},
   "outputs": [],
   "source": [
    "adj_matrix_lil = sp.lil_matrix((N_NODES, N_NODES), dtype=np.int8)"
   ]
  },
  {
   "cell_type": "code",
   "execution_count": 4,
   "metadata": {},
   "outputs": [
    {
     "name": "stdout",
     "output_type": "stream",
     "text": [
      "(1900654, 2)\n"
     ]
    }
   ],
   "source": [
    "edges_path = '../Dataset/loc-gowalla_edges.txt'\n",
    "edges = np.loadtxt(edges_path)\n",
    "print(edges.shape)"
   ]
  },
  {
   "cell_type": "code",
   "execution_count": 7,
   "metadata": {},
   "outputs": [
    {
     "name": "stdout",
     "output_type": "stream",
     "text": [
      "Processing edge #0\n",
      "Processing edge #100000\n",
      "Processing edge #200000\n",
      "Processing edge #300000\n",
      "Processing edge #400000\n",
      "Processing edge #500000\n",
      "Processing edge #600000\n",
      "Processing edge #700000\n",
      "Processing edge #800000\n",
      "Processing edge #900000\n",
      "Processing edge #1000000\n",
      "Processing edge #1100000\n",
      "Processing edge #1200000\n",
      "Processing edge #1300000\n",
      "Processing edge #1400000\n",
      "Processing edge #1500000\n",
      "Processing edge #1600000\n",
      "Processing edge #1700000\n",
      "Processing edge #1800000\n",
      "Processing edge #1900000\n"
     ]
    }
   ],
   "source": [
    "for i in range(N_EDGES * 2):\n",
    "    if i % 1e5 == 0:\n",
    "        print('Processing edge #%i' % i)\n",
    "    adj_matrix_lil[edges[i][0], edges[i][1]] = 1\n",
    "adj_matrix_csr = adj_matrix_lil.tocsr()"
   ]
  },
  {
   "cell_type": "code",
   "execution_count": 8,
   "metadata": {},
   "outputs": [],
   "source": [
    "sp.save_npz('../Dataset/adj_mat.npz', adj_matrix_csr)"
   ]
  },
  {
   "cell_type": "code",
   "execution_count": null,
   "metadata": {},
   "outputs": [],
   "source": []
  }
 ],
 "metadata": {
  "kernelspec": {
   "display_name": "Python 3",
   "language": "python",
   "name": "python3"
  },
  "language_info": {
   "codemirror_mode": {
    "name": "ipython",
    "version": 3
   },
   "file_extension": ".py",
   "mimetype": "text/x-python",
   "name": "python",
   "nbconvert_exporter": "python",
   "pygments_lexer": "ipython3",
   "version": "3.6.8"
  }
 },
 "nbformat": 4,
 "nbformat_minor": 2
}
