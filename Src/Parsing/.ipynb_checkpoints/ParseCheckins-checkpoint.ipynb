{
 "cells": [
  {
   "cell_type": "code",
   "execution_count": 1,
   "metadata": {},
   "outputs": [],
   "source": [
    "import numpy as np\n",
    "import matplotlib.pyplot as plt"
   ]
  },
  {
   "cell_type": "code",
   "execution_count": 2,
   "metadata": {},
   "outputs": [],
   "source": [
    "CHECKINS = 6442892"
   ]
  },
  {
   "cell_type": "code",
   "execution_count": 3,
   "metadata": {},
   "outputs": [],
   "source": [
    "ci_path = '../../Dataset/loc-gowalla_totalCheckins.txt'\n",
    "ci_file = open(ci_path, 'r')\n",
    "ci_lines = ci_file.readlines()"
   ]
  },
  {
   "cell_type": "code",
   "execution_count": 8,
   "metadata": {},
   "outputs": [],
   "source": [
    "ci_data = np.zeros((CHECKINS, 2), dtype=np.int32)"
   ]
  },
  {
   "cell_type": "code",
   "execution_count": 9,
   "metadata": {},
   "outputs": [
    {
     "name": "stdout",
     "output_type": "stream",
     "text": [
      "[[      0.   22847.]\n",
      " [      0.  420315.]\n",
      " [      0.  316637.]\n",
      " [      0.   16516.]\n",
      " [      0. 5535878.]\n",
      " [      0.   15372.]\n",
      " [      0.   21714.]\n",
      " [      0.  420315.]\n",
      " [      0.  153505.]\n",
      " [      0.  420315.]]\n"
     ]
    }
   ],
   "source": [
    "for ci in range(CHECKINS):\n",
    "    line_split = ci_lines[ci].split(\"\\t\")\n",
    "    ci_data[ci, 0] = int(line_split[0])\n",
    "    ci_data[ci, 1] = int(line_split[4])\n",
    "print(ci_data[:10])"
   ]
  },
  {
   "cell_type": "code",
   "execution_count": 6,
   "metadata": {},
   "outputs": [],
   "source": [
    "np.save('../../Dataset/ci_ids.npy', ci_data)"
   ]
  },
  {
   "cell_type": "code",
   "execution_count": null,
   "metadata": {},
   "outputs": [],
   "source": []
  }
 ],
 "metadata": {
  "kernelspec": {
   "display_name": "Python 3",
   "language": "python",
   "name": "python3"
  },
  "language_info": {
   "codemirror_mode": {
    "name": "ipython",
    "version": 3
   },
   "file_extension": ".py",
   "mimetype": "text/x-python",
   "name": "python",
   "nbconvert_exporter": "python",
   "pygments_lexer": "ipython3",
   "version": "3.6.8"
  }
 },
 "nbformat": 4,
 "nbformat_minor": 2
}
