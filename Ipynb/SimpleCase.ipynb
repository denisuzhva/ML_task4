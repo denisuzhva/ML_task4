{
 "cells": [
  {
   "cell_type": "code",
   "execution_count": 1,
   "metadata": {},
   "outputs": [],
   "source": [
    "import numpy as np\n",
    "import matplotlib.pyplot as plt"
   ]
  },
  {
   "cell_type": "code",
   "execution_count": 2,
   "metadata": {},
   "outputs": [
    {
     "name": "stdout",
     "output_type": "stream",
     "text": [
      "[[  0. -10. -10.  -1.  -1.]\n",
      " [-10.   0. -10. -10. -10.]\n",
      " [-10.  -1.   0. -10.  -1.]\n",
      " [-10. -10. -10.   0. -10.]\n",
      " [ -1. -10. -10. -10.   0.]]\n"
     ]
    }
   ],
   "source": [
    "## Vars and params\n",
    "\n",
    "nodes = 5\n",
    "self_sim = 0.\n",
    "no_sim = -10.\n",
    "#s_mat = np.zeros((nodes, nodes))\n",
    "s_mat = np.full((nodes, nodes), no_sim)\n",
    "\n",
    "# fill S\n",
    "for i in range(nodes):\n",
    "    for j in range(nodes):\n",
    "        if not i == j:\n",
    "            p_put = np.random.rand()\n",
    "            if p_put > 0.7:\n",
    "                s_mat[i][j] = -1\n",
    "            \n",
    "np.fill_diagonal(s_mat, self_sim)\n",
    "print(s_mat)"
   ]
  },
  {
   "cell_type": "code",
   "execution_count": 3,
   "metadata": {},
   "outputs": [],
   "source": [
    "## Update R\n",
    "\n",
    "def updateR(r_mat, damping=0):\n",
    "    for i in range(nodes):\n",
    "        for k in range(nodes):\n",
    "            v = a_mat[i, :] + s_mat[i, :]\n",
    "            v[k] = -np.inf\n",
    "            v[i]= -np.inf\n",
    "            r_mat[i, k] = r_mat[i, k] * damping + (1 - damping) * (s_mat[i, k] - np.max(v))\n",
    "            \n",
    "    return r_mat"
   ]
  },
  {
   "cell_type": "code",
   "execution_count": 4,
   "metadata": {},
   "outputs": [],
   "source": [
    "## Update A \n",
    "\n",
    "def updateA(a_mat, damping=0):\n",
    "    for i in range(nodes):\n",
    "        for k in range(nodes):\n",
    "            a = np.array(r_mat[:, k]) # Select column k\n",
    "            # a_matll indices but the diagonal\n",
    "            if i != k:\n",
    "                a[i] = -np.inf\n",
    "                a[k] = - np.inf\n",
    "                a[a < 0] = 0\n",
    "                a_mat[i, k] = a_mat[i, k] * damping + (1 - damping) * min(0, r_mat[k, k] + a.sum())\n",
    "            # The diagonal\n",
    "            else:\n",
    "                a[k] = -np.inf\n",
    "                a[a < 0] = 0\n",
    "                a_mat[k, k] = a_mat[k, k] * damping + (1 - damping) * a.sum()\n",
    "                \n",
    "    return a_mat"
   ]
  },
  {
   "cell_type": "code",
   "execution_count": 5,
   "metadata": {},
   "outputs": [
    {
     "name": "stdout",
     "output_type": "stream",
     "text": [
      "[[  0. -10. -10.  -1.  -1.]\n",
      " [-10.   0. -10. -10. -10.]\n",
      " [-10.  -1.   0. -10.  -1.]\n",
      " [-10. -10. -10.   0. -10.]\n",
      " [ -1. -10. -10. -10.   0.]]\n",
      "[[0. 0. 0. 0. 0.]\n",
      " [0. 0. 0. 0. 0.]\n",
      " [0. 0. 0. 0. 0.]\n",
      " [0. 0. 0. 0. 0.]\n",
      " [0. 0. 0. 0. 0.]]\n",
      "[[ 1. -9. -9.  0.  0.]\n",
      " [ 0. 10.  0.  0.  0.]\n",
      " [-9.  0.  1. -9.  0.]\n",
      " [ 0.  0.  0. 10.  0.]\n",
      " [ 9. -9. -9. -9.  1.]]\n"
     ]
    }
   ],
   "source": [
    "## Some simulations\n",
    "r_mat = np.zeros_like(s_mat)\n",
    "a_mat = np.zeros_like(s_mat)\n",
    "\n",
    "print(s_mat)\n",
    "print(r_mat)\n",
    "r_mat = updateR(r_mat)\n",
    "print(r_mat)"
   ]
  },
  {
   "cell_type": "code",
   "execution_count": null,
   "metadata": {},
   "outputs": [],
   "source": []
  }
 ],
 "metadata": {
  "kernelspec": {
   "display_name": "Python 3",
   "language": "python",
   "name": "python3"
  },
  "language_info": {
   "codemirror_mode": {
    "name": "ipython",
    "version": 3
   },
   "file_extension": ".py",
   "mimetype": "text/x-python",
   "name": "python",
   "nbconvert_exporter": "python",
   "pygments_lexer": "ipython3",
   "version": "3.6.8"
  }
 },
 "nbformat": 4,
 "nbformat_minor": 2
}
